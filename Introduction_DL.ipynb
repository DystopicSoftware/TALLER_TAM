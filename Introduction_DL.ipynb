{
  "nbformat": 4,
  "nbformat_minor": 0,
  "metadata": {
    "colab": {
      "provenance": [],
      "gpuType": "T4",
      "authorship_tag": "ABX9TyPb6kUK4MhAzQmGeb18BQ9A",
      "include_colab_link": true
    },
    "kernelspec": {
      "name": "python3",
      "display_name": "Python 3"
    },
    "language_info": {
      "name": "python"
    },
    "accelerator": "GPU"
  },
  "cells": [
    {
      "cell_type": "markdown",
      "metadata": {
        "id": "view-in-github",
        "colab_type": "text"
      },
      "source": [
        "<a href=\"https://colab.research.google.com/github/DystopicSoftware/TALLER_TAM/blob/main/Introduction_DL.ipynb\" target=\"_parent\"><img src=\"https://colab.research.google.com/assets/colab-badge.svg\" alt=\"Open In Colab\"/></a>"
      ]
    },
    {
      "cell_type": "markdown",
      "source": [
        "# Ejercicio:\n",
        "\n",
        "Configure el entorno de Colab para trabajar con GPU (Ver pestaña entorno de ejecución). Repita el entrenamiento del modelo de clasificación Fashion mnist para batch size en 32, 64, 128, 256, y 512. Reporte una tabla con los rendimientos sobre el conjunto de test y el tiempo promedio de cómputo por época."
      ],
      "metadata": {
        "id": "S0wiChgmS5IF"
      }
    },
    {
      "cell_type": "markdown",
      "source": [
        "## IMPORTACIONES\n"
      ],
      "metadata": {
        "id": "C37MF_mOTnIU"
      }
    },
    {
      "cell_type": "code",
      "source": [
        "import tensorflow as tf\n",
        "from tensorflow import keras\n",
        "import numpy as np\n",
        "import matplotlib.pyplot as plt\n",
        "import time\n",
        "import pandas as pd"
      ],
      "metadata": {
        "id": "OcOsAd_yTpvY"
      },
      "execution_count": 1,
      "outputs": []
    },
    {
      "cell_type": "markdown",
      "source": [
        "## Carga, normalizacion, y definicion de batch"
      ],
      "metadata": {
        "id": "Ffrh_1kGTwrh"
      }
    },
    {
      "cell_type": "code",
      "source": [
        "# Verificar que estamos usando GPU\n",
        "print(\"GPU disponible:\", tf.config.list_physical_devices('GPU'))\n",
        "\n",
        "# Cargar el dataset Fashion MNIST\n",
        "fashion_mnist = keras.datasets.fashion_mnist\n",
        "(train_images, train_labels), (test_images, test_labels) = fashion_mnist.load_data()\n",
        "\n",
        "# Normalizar los valores de los pixeles\n",
        "train_images = train_images / 255.0\n",
        "test_images = test_images / 255.0\n",
        "\n",
        "# Definir los nombres de las clases\n",
        "class_names = ['T-shirt/top', 'Trouser', 'Pullover', 'Dress', 'Coat',\n",
        "               'Sandal', 'Shirt', 'Sneaker', 'Bag', 'Ankle boot']\n",
        "\n",
        "# Lista de batch sizes a probar\n",
        "batch_sizes = [32, 64, 128, 256, 512]\n",
        "\n",
        "# Listas para almacenar resultados\n",
        "accuracies = []\n",
        "times_per_epoch = []"
      ],
      "metadata": {
        "colab": {
          "base_uri": "https://localhost:8080/"
        },
        "id": "7SmzwGINT726",
        "outputId": "6b6fd109-7cbf-4087-b0b9-a8a39aad6fe9"
      },
      "execution_count": 2,
      "outputs": [
        {
          "output_type": "stream",
          "name": "stdout",
          "text": [
            "GPU disponible: [PhysicalDevice(name='/physical_device:GPU:0', device_type='GPU')]\n",
            "Downloading data from https://storage.googleapis.com/tensorflow/tf-keras-datasets/train-labels-idx1-ubyte.gz\n",
            "\u001b[1m29515/29515\u001b[0m \u001b[32m━━━━━━━━━━━━━━━━━━━━\u001b[0m\u001b[37m\u001b[0m \u001b[1m0s\u001b[0m 0us/step\n",
            "Downloading data from https://storage.googleapis.com/tensorflow/tf-keras-datasets/train-images-idx3-ubyte.gz\n",
            "\u001b[1m26421880/26421880\u001b[0m \u001b[32m━━━━━━━━━━━━━━━━━━━━\u001b[0m\u001b[37m\u001b[0m \u001b[1m0s\u001b[0m 0us/step\n",
            "Downloading data from https://storage.googleapis.com/tensorflow/tf-keras-datasets/t10k-labels-idx1-ubyte.gz\n",
            "\u001b[1m5148/5148\u001b[0m \u001b[32m━━━━━━━━━━━━━━━━━━━━\u001b[0m\u001b[37m\u001b[0m \u001b[1m0s\u001b[0m 0us/step\n",
            "Downloading data from https://storage.googleapis.com/tensorflow/tf-keras-datasets/t10k-images-idx3-ubyte.gz\n",
            "\u001b[1m4422102/4422102\u001b[0m \u001b[32m━━━━━━━━━━━━━━━━━━━━\u001b[0m\u001b[37m\u001b[0m \u001b[1m0s\u001b[0m 0us/step\n"
          ]
        }
      ]
    },
    {
      "cell_type": "markdown",
      "source": [
        "## Definicion del modelo (objeto)"
      ],
      "metadata": {
        "id": "u_Xq3b_pT_8B"
      }
    },
    {
      "cell_type": "code",
      "source": [
        "for batch_size in batch_sizes:\n",
        "    print(f\"\\nEntrenando con batch size = {batch_size}\")\n",
        "\n",
        "    # Crear el modelo\n",
        "    model = keras.Sequential([\n",
        "        keras.layers.Flatten(input_shape=(28, 28)),\n",
        "        keras.layers.Dense(128, activation='relu'),\n",
        "        keras.layers.Dense(10, activation='softmax')\n",
        "    ])\n",
        "\n",
        "    # Compilar el modelo\n",
        "    model.compile(optimizer='adam',\n",
        "                  loss='sparse_categorical_crossentropy',\n",
        "                  metrics=['accuracy'])\n",
        "\n",
        "    # Entrenar el modelo y medir el tiempo\n",
        "    start_time = time.time()\n",
        "    history = model.fit(train_images, train_labels, epochs=10, batch_size=batch_size)\n",
        "    end_time = time.time()\n",
        "\n",
        "    # Calcular tiempo por época\n",
        "    total_time = end_time - start_time\n",
        "    time_per_epoch = total_time / 10\n",
        "    times_per_epoch.append(time_per_epoch)\n",
        "\n",
        "    # Evaluar el modelo\n",
        "    test_loss, test_acc = model.evaluate(test_images, test_labels, verbose=2)\n",
        "    accuracies.append(test_acc)\n",
        "\n",
        "    print(f\"Batch size: {batch_size}, Test accuracy: {test_acc:.4f}, Tiempo/época: {time_per_epoch:.2f}s\")\n",
        "\n",
        "# Crear DataFrame con los resultados\n",
        "results = pd.DataFrame({\n",
        "    'Batch Size': batch_sizes,\n",
        "    'Test Accuracy': accuracies,\n",
        "    'Tiempo por época (s)': times_per_epoch\n",
        "})"
      ],
      "metadata": {
        "colab": {
          "base_uri": "https://localhost:8080/"
        },
        "id": "JgJdSWaLUKia",
        "outputId": "4144b410-d95d-4dbb-8460-d75a9ee257d3"
      },
      "execution_count": 3,
      "outputs": [
        {
          "output_type": "stream",
          "name": "stdout",
          "text": [
            "\n",
            "Entrenando con batch size = 32\n"
          ]
        },
        {
          "output_type": "stream",
          "name": "stderr",
          "text": [
            "/usr/local/lib/python3.11/dist-packages/keras/src/layers/reshaping/flatten.py:37: UserWarning: Do not pass an `input_shape`/`input_dim` argument to a layer. When using Sequential models, prefer using an `Input(shape)` object as the first layer in the model instead.\n",
            "  super().__init__(**kwargs)\n"
          ]
        },
        {
          "output_type": "stream",
          "name": "stdout",
          "text": [
            "Epoch 1/10\n",
            "\u001b[1m1875/1875\u001b[0m \u001b[32m━━━━━━━━━━━━━━━━━━━━\u001b[0m\u001b[37m\u001b[0m \u001b[1m6s\u001b[0m 2ms/step - accuracy: 0.7787 - loss: 0.6384\n",
            "Epoch 2/10\n",
            "\u001b[1m1875/1875\u001b[0m \u001b[32m━━━━━━━━━━━━━━━━━━━━\u001b[0m\u001b[37m\u001b[0m \u001b[1m9s\u001b[0m 2ms/step - accuracy: 0.8618 - loss: 0.3827\n",
            "Epoch 3/10\n",
            "\u001b[1m1875/1875\u001b[0m \u001b[32m━━━━━━━━━━━━━━━━━━━━\u001b[0m\u001b[37m\u001b[0m \u001b[1m4s\u001b[0m 2ms/step - accuracy: 0.8748 - loss: 0.3434\n",
            "Epoch 4/10\n",
            "\u001b[1m1875/1875\u001b[0m \u001b[32m━━━━━━━━━━━━━━━━━━━━\u001b[0m\u001b[37m\u001b[0m \u001b[1m6s\u001b[0m 2ms/step - accuracy: 0.8857 - loss: 0.3124\n",
            "Epoch 5/10\n",
            "\u001b[1m1875/1875\u001b[0m \u001b[32m━━━━━━━━━━━━━━━━━━━━\u001b[0m\u001b[37m\u001b[0m \u001b[1m4s\u001b[0m 2ms/step - accuracy: 0.8924 - loss: 0.2920\n",
            "Epoch 6/10\n",
            "\u001b[1m1875/1875\u001b[0m \u001b[32m━━━━━━━━━━━━━━━━━━━━\u001b[0m\u001b[37m\u001b[0m \u001b[1m4s\u001b[0m 2ms/step - accuracy: 0.8959 - loss: 0.2800\n",
            "Epoch 7/10\n",
            "\u001b[1m1875/1875\u001b[0m \u001b[32m━━━━━━━━━━━━━━━━━━━━\u001b[0m\u001b[37m\u001b[0m \u001b[1m5s\u001b[0m 2ms/step - accuracy: 0.9014 - loss: 0.2672\n",
            "Epoch 8/10\n",
            "\u001b[1m1875/1875\u001b[0m \u001b[32m━━━━━━━━━━━━━━━━━━━━\u001b[0m\u001b[37m\u001b[0m \u001b[1m4s\u001b[0m 2ms/step - accuracy: 0.9052 - loss: 0.2535\n",
            "Epoch 9/10\n",
            "\u001b[1m1875/1875\u001b[0m \u001b[32m━━━━━━━━━━━━━━━━━━━━\u001b[0m\u001b[37m\u001b[0m \u001b[1m4s\u001b[0m 2ms/step - accuracy: 0.9107 - loss: 0.2402\n",
            "Epoch 10/10\n",
            "\u001b[1m1875/1875\u001b[0m \u001b[32m━━━━━━━━━━━━━━━━━━━━\u001b[0m\u001b[37m\u001b[0m \u001b[1m5s\u001b[0m 2ms/step - accuracy: 0.9114 - loss: 0.2372\n",
            "313/313 - 1s - 4ms/step - accuracy: 0.8794 - loss: 0.3375\n",
            "Batch size: 32, Test accuracy: 0.8794, Tiempo/época: 5.13s\n",
            "\n",
            "Entrenando con batch size = 64\n",
            "Epoch 1/10\n",
            "\u001b[1m938/938\u001b[0m \u001b[32m━━━━━━━━━━━━━━━━━━━━\u001b[0m\u001b[37m\u001b[0m \u001b[1m4s\u001b[0m 2ms/step - accuracy: 0.7647 - loss: 0.6730\n",
            "Epoch 2/10\n",
            "\u001b[1m938/938\u001b[0m \u001b[32m━━━━━━━━━━━━━━━━━━━━\u001b[0m\u001b[37m\u001b[0m \u001b[1m2s\u001b[0m 2ms/step - accuracy: 0.8570 - loss: 0.3982\n",
            "Epoch 3/10\n",
            "\u001b[1m938/938\u001b[0m \u001b[32m━━━━━━━━━━━━━━━━━━━━\u001b[0m\u001b[37m\u001b[0m \u001b[1m4s\u001b[0m 3ms/step - accuracy: 0.8715 - loss: 0.3570\n",
            "Epoch 4/10\n",
            "\u001b[1m938/938\u001b[0m \u001b[32m━━━━━━━━━━━━━━━━━━━━\u001b[0m\u001b[37m\u001b[0m \u001b[1m2s\u001b[0m 2ms/step - accuracy: 0.8835 - loss: 0.3193\n",
            "Epoch 5/10\n",
            "\u001b[1m938/938\u001b[0m \u001b[32m━━━━━━━━━━━━━━━━━━━━\u001b[0m\u001b[37m\u001b[0m \u001b[1m3s\u001b[0m 2ms/step - accuracy: 0.8884 - loss: 0.3039\n",
            "Epoch 6/10\n",
            "\u001b[1m938/938\u001b[0m \u001b[32m━━━━━━━━━━━━━━━━━━━━\u001b[0m\u001b[37m\u001b[0m \u001b[1m2s\u001b[0m 2ms/step - accuracy: 0.8940 - loss: 0.2876\n",
            "Epoch 7/10\n",
            "\u001b[1m938/938\u001b[0m \u001b[32m━━━━━━━━━━━━━━━━━━━━\u001b[0m\u001b[37m\u001b[0m \u001b[1m3s\u001b[0m 2ms/step - accuracy: 0.8992 - loss: 0.2752\n",
            "Epoch 8/10\n",
            "\u001b[1m938/938\u001b[0m \u001b[32m━━━━━━━━━━━━━━━━━━━━\u001b[0m\u001b[37m\u001b[0m \u001b[1m3s\u001b[0m 3ms/step - accuracy: 0.9039 - loss: 0.2644\n",
            "Epoch 9/10\n",
            "\u001b[1m938/938\u001b[0m \u001b[32m━━━━━━━━━━━━━━━━━━━━\u001b[0m\u001b[37m\u001b[0m \u001b[1m2s\u001b[0m 2ms/step - accuracy: 0.9030 - loss: 0.2598\n",
            "Epoch 10/10\n",
            "\u001b[1m938/938\u001b[0m \u001b[32m━━━━━━━━━━━━━━━━━━━━\u001b[0m\u001b[37m\u001b[0m \u001b[1m2s\u001b[0m 2ms/step - accuracy: 0.9066 - loss: 0.2478\n",
            "313/313 - 1s - 3ms/step - accuracy: 0.8827 - loss: 0.3272\n",
            "Batch size: 64, Test accuracy: 0.8827, Tiempo/época: 2.65s\n",
            "\n",
            "Entrenando con batch size = 128\n",
            "Epoch 1/10\n",
            "\u001b[1m469/469\u001b[0m \u001b[32m━━━━━━━━━━━━━━━━━━━━\u001b[0m\u001b[37m\u001b[0m \u001b[1m3s\u001b[0m 4ms/step - accuracy: 0.7387 - loss: 0.7666\n",
            "Epoch 2/10\n",
            "\u001b[1m469/469\u001b[0m \u001b[32m━━━━━━━━━━━━━━━━━━━━\u001b[0m\u001b[37m\u001b[0m \u001b[1m1s\u001b[0m 3ms/step - accuracy: 0.8555 - loss: 0.4165\n",
            "Epoch 3/10\n",
            "\u001b[1m469/469\u001b[0m \u001b[32m━━━━━━━━━━━━━━━━━━━━\u001b[0m\u001b[37m\u001b[0m \u001b[1m2s\u001b[0m 2ms/step - accuracy: 0.8689 - loss: 0.3684\n",
            "Epoch 4/10\n",
            "\u001b[1m469/469\u001b[0m \u001b[32m━━━━━━━━━━━━━━━━━━━━\u001b[0m\u001b[37m\u001b[0m \u001b[1m2s\u001b[0m 3ms/step - accuracy: 0.8798 - loss: 0.3336\n",
            "Epoch 5/10\n",
            "\u001b[1m469/469\u001b[0m \u001b[32m━━━━━━━━━━━━━━━━━━━━\u001b[0m\u001b[37m\u001b[0m \u001b[1m2s\u001b[0m 3ms/step - accuracy: 0.8815 - loss: 0.3252\n",
            "Epoch 6/10\n",
            "\u001b[1m469/469\u001b[0m \u001b[32m━━━━━━━━━━━━━━━━━━━━\u001b[0m\u001b[37m\u001b[0m \u001b[1m1s\u001b[0m 2ms/step - accuracy: 0.8896 - loss: 0.3044\n",
            "Epoch 7/10\n",
            "\u001b[1m469/469\u001b[0m \u001b[32m━━━━━━━━━━━━━━━━━━━━\u001b[0m\u001b[37m\u001b[0m \u001b[1m1s\u001b[0m 3ms/step - accuracy: 0.8937 - loss: 0.2883\n",
            "Epoch 8/10\n",
            "\u001b[1m469/469\u001b[0m \u001b[32m━━━━━━━━━━━━━━━━━━━━\u001b[0m\u001b[37m\u001b[0m \u001b[1m1s\u001b[0m 2ms/step - accuracy: 0.8995 - loss: 0.2778\n",
            "Epoch 9/10\n",
            "\u001b[1m469/469\u001b[0m \u001b[32m━━━━━━━━━━━━━━━━━━━━\u001b[0m\u001b[37m\u001b[0m \u001b[1m1s\u001b[0m 2ms/step - accuracy: 0.9013 - loss: 0.2687\n",
            "Epoch 10/10\n",
            "\u001b[1m469/469\u001b[0m \u001b[32m━━━━━━━━━━━━━━━━━━━━\u001b[0m\u001b[37m\u001b[0m \u001b[1m1s\u001b[0m 3ms/step - accuracy: 0.9065 - loss: 0.2578\n",
            "313/313 - 1s - 3ms/step - accuracy: 0.8756 - loss: 0.3547\n",
            "Batch size: 128, Test accuracy: 0.8756, Tiempo/época: 1.74s\n",
            "\n",
            "Entrenando con batch size = 256\n",
            "Epoch 1/10\n",
            "\u001b[1m235/235\u001b[0m \u001b[32m━━━━━━━━━━━━━━━━━━━━\u001b[0m\u001b[37m\u001b[0m \u001b[1m2s\u001b[0m 4ms/step - accuracy: 0.7122 - loss: 0.8522\n",
            "Epoch 2/10\n",
            "\u001b[1m235/235\u001b[0m \u001b[32m━━━━━━━━━━━━━━━━━━━━\u001b[0m\u001b[37m\u001b[0m \u001b[1m2s\u001b[0m 2ms/step - accuracy: 0.8489 - loss: 0.4378\n",
            "Epoch 3/10\n",
            "\u001b[1m235/235\u001b[0m \u001b[32m━━━━━━━━━━━━━━━━━━━━\u001b[0m\u001b[37m\u001b[0m \u001b[1m1s\u001b[0m 2ms/step - accuracy: 0.8657 - loss: 0.3813\n",
            "Epoch 4/10\n",
            "\u001b[1m235/235\u001b[0m \u001b[32m━━━━━━━━━━━━━━━━━━━━\u001b[0m\u001b[37m\u001b[0m \u001b[1m1s\u001b[0m 2ms/step - accuracy: 0.8733 - loss: 0.3573\n",
            "Epoch 5/10\n",
            "\u001b[1m235/235\u001b[0m \u001b[32m━━━━━━━━━━━━━━━━━━━━\u001b[0m\u001b[37m\u001b[0m \u001b[1m1s\u001b[0m 2ms/step - accuracy: 0.8788 - loss: 0.3419\n",
            "Epoch 6/10\n",
            "\u001b[1m235/235\u001b[0m \u001b[32m━━━━━━━━━━━━━━━━━━━━\u001b[0m\u001b[37m\u001b[0m \u001b[1m1s\u001b[0m 2ms/step - accuracy: 0.8826 - loss: 0.3280\n",
            "Epoch 7/10\n",
            "\u001b[1m235/235\u001b[0m \u001b[32m━━━━━━━━━━━━━━━━━━━━\u001b[0m\u001b[37m\u001b[0m \u001b[1m1s\u001b[0m 2ms/step - accuracy: 0.8900 - loss: 0.3113\n",
            "Epoch 8/10\n",
            "\u001b[1m235/235\u001b[0m \u001b[32m━━━━━━━━━━━━━━━━━━━━\u001b[0m\u001b[37m\u001b[0m \u001b[1m1s\u001b[0m 2ms/step - accuracy: 0.8909 - loss: 0.2988\n",
            "Epoch 9/10\n",
            "\u001b[1m235/235\u001b[0m \u001b[32m━━━━━━━━━━━━━━━━━━━━\u001b[0m\u001b[37m\u001b[0m \u001b[1m1s\u001b[0m 3ms/step - accuracy: 0.8918 - loss: 0.2951\n",
            "Epoch 10/10\n",
            "\u001b[1m235/235\u001b[0m \u001b[32m━━━━━━━━━━━━━━━━━━━━\u001b[0m\u001b[37m\u001b[0m \u001b[1m1s\u001b[0m 3ms/step - accuracy: 0.8976 - loss: 0.2827\n",
            "313/313 - 1s - 3ms/step - accuracy: 0.8755 - loss: 0.3501\n",
            "Batch size: 256, Test accuracy: 0.8755, Tiempo/época: 0.99s\n",
            "\n",
            "Entrenando con batch size = 512\n",
            "Epoch 1/10\n",
            "\u001b[1m118/118\u001b[0m \u001b[32m━━━━━━━━━━━━━━━━━━━━\u001b[0m\u001b[37m\u001b[0m \u001b[1m2s\u001b[0m 5ms/step - accuracy: 0.6546 - loss: 1.0607\n",
            "Epoch 2/10\n",
            "\u001b[1m118/118\u001b[0m \u001b[32m━━━━━━━━━━━━━━━━━━━━\u001b[0m\u001b[37m\u001b[0m \u001b[1m0s\u001b[0m 3ms/step - accuracy: 0.8357 - loss: 0.4875\n",
            "Epoch 3/10\n",
            "\u001b[1m118/118\u001b[0m \u001b[32m━━━━━━━━━━━━━━━━━━━━\u001b[0m\u001b[37m\u001b[0m \u001b[1m1s\u001b[0m 3ms/step - accuracy: 0.8507 - loss: 0.4294\n",
            "Epoch 4/10\n",
            "\u001b[1m118/118\u001b[0m \u001b[32m━━━━━━━━━━━━━━━━━━━━\u001b[0m\u001b[37m\u001b[0m \u001b[1m0s\u001b[0m 3ms/step - accuracy: 0.8612 - loss: 0.4019\n",
            "Epoch 5/10\n",
            "\u001b[1m118/118\u001b[0m \u001b[32m━━━━━━━━━━━━━━━━━━━━\u001b[0m\u001b[37m\u001b[0m \u001b[1m0s\u001b[0m 3ms/step - accuracy: 0.8626 - loss: 0.3934\n",
            "Epoch 6/10\n",
            "\u001b[1m118/118\u001b[0m \u001b[32m━━━━━━━━━━━━━━━━━━━━\u001b[0m\u001b[37m\u001b[0m \u001b[1m0s\u001b[0m 3ms/step - accuracy: 0.8709 - loss: 0.3655\n",
            "Epoch 7/10\n",
            "\u001b[1m118/118\u001b[0m \u001b[32m━━━━━━━━━━━━━━━━━━━━\u001b[0m\u001b[37m\u001b[0m \u001b[1m1s\u001b[0m 3ms/step - accuracy: 0.8776 - loss: 0.3466\n",
            "Epoch 8/10\n",
            "\u001b[1m118/118\u001b[0m \u001b[32m━━━━━━━━━━━━━━━━━━━━\u001b[0m\u001b[37m\u001b[0m \u001b[1m0s\u001b[0m 3ms/step - accuracy: 0.8823 - loss: 0.3304\n",
            "Epoch 9/10\n",
            "\u001b[1m118/118\u001b[0m \u001b[32m━━━━━━━━━━━━━━━━━━━━\u001b[0m\u001b[37m\u001b[0m \u001b[1m0s\u001b[0m 3ms/step - accuracy: 0.8831 - loss: 0.3250\n",
            "Epoch 10/10\n",
            "\u001b[1m118/118\u001b[0m \u001b[32m━━━━━━━━━━━━━━━━━━━━\u001b[0m\u001b[37m\u001b[0m \u001b[1m1s\u001b[0m 3ms/step - accuracy: 0.8850 - loss: 0.3213\n",
            "313/313 - 1s - 3ms/step - accuracy: 0.8685 - loss: 0.3684\n",
            "Batch size: 512, Test accuracy: 0.8685, Tiempo/época: 0.68s\n"
          ]
        }
      ]
    },
    {
      "cell_type": "markdown",
      "source": [
        "## Tabla (objeto)"
      ],
      "metadata": {
        "id": "s4YKE6UUUPKQ"
      }
    },
    {
      "cell_type": "code",
      "source": [
        "# Mostrar tabla con estilo mejorado\n",
        "def highlight_max(s):\n",
        "    is_max = s == s.max()\n",
        "    return ['background-color: yellow' if v else '' for v in is_max]\n",
        "\n",
        "def highlight_min(s):\n",
        "    is_min = s == s.min()\n",
        "    return ['background-color: lightgreen' if v else '' for v in is_min]\n",
        "\n",
        "styled_table = results.style \\\n",
        "    .format({\n",
        "        'Test Accuracy': '{:.4f}',\n",
        "        'Tiempo por época (s)': '{:.2f}'\n",
        "    }) \\\n",
        "    .apply(highlight_max, subset=['Test Accuracy']) \\\n",
        "    .apply(highlight_min, subset=['Tiempo por época (s)']) \\\n",
        "    .background_gradient(cmap='Blues', subset=['Test Accuracy']) \\\n",
        "    .background_gradient(cmap='Reds', subset=['Tiempo por época (s)']) \\\n",
        "    .set_caption('Resultados del Entrenamiento por Batch Size') \\\n",
        "    .set_table_styles([{\n",
        "        'selector': 'caption',\n",
        "        'props': [\n",
        "            ('font-size', '16px'),\n",
        "            ('font-weight', 'bold'),\n",
        "            ('text-align', 'center'),\n",
        "            ('color', 'darkblue')\n",
        "        ]\n",
        "    }, {\n",
        "        'selector': 'th',\n",
        "        'props': [\n",
        "            ('background-color', '#f7f7f7'),\n",
        "            ('color', 'black'),\n",
        "            ('font-weight', 'bold'),\n",
        "            ('text-align', 'center')\n",
        "        ]\n",
        "    }])"
      ],
      "metadata": {
        "id": "zo6q-lu_USKJ"
      },
      "execution_count": 4,
      "outputs": []
    },
    {
      "cell_type": "markdown",
      "source": [
        "## Graficos de accuracy y tiempo por batch"
      ],
      "metadata": {
        "id": "grkMdwneVf7x"
      }
    },
    {
      "cell_type": "code",
      "source": [
        "# Mostrar la tabla estilizada\n",
        "styled_table\n",
        "\n",
        "# Mostrar también los gráficos para mejor visualización\n",
        "plt.figure(figsize=(12, 5))\n",
        "\n",
        "# Gráfico de accuracy\n",
        "plt.subplot(1, 2, 1)\n",
        "plt.plot(batch_sizes, accuracies, 'b-o', linewidth=2)\n",
        "plt.title('Accuracy por Batch Size')\n",
        "plt.xlabel('Batch Size')\n",
        "plt.ylabel('Test Accuracy')\n",
        "plt.grid(True, linestyle='--', alpha=0.7)\n",
        "\n",
        "# Gráfico de tiempo\n",
        "plt.subplot(1, 2, 2)\n",
        "plt.plot(batch_sizes, times_per_epoch, 'r--s', linewidth=2)\n",
        "plt.title('Tiempo por Época por Batch Size')\n",
        "plt.xlabel('Batch Size')\n",
        "plt.ylabel('Tiempo (segundos)')\n",
        "plt.grid(True, linestyle='--', alpha=0.7)\n",
        "\n",
        "plt.tight_layout()\n",
        "plt.show()"
      ],
      "metadata": {
        "colab": {
          "base_uri": "https://localhost:8080/",
          "height": 507
        },
        "id": "04wo2ggHUiRi",
        "outputId": "71823237-0d30-457b-ffc7-4977ec14b7af"
      },
      "execution_count": 5,
      "outputs": [
        {
          "output_type": "display_data",
          "data": {
            "text/plain": [
              "<Figure size 1200x500 with 2 Axes>"
            ],
            "image/png": "[encoded data removed]"
          },
          "metadata": {}
        }
      ]
    },
    {
      "cell_type": "markdown",
      "source": [
        "## TABLA PROFESIONAL"
      ],
      "metadata": {
        "id": "oRta1zuhVr3x"
      }
    },
    {
      "cell_type": "code",
      "execution_count": 7,
      "metadata": {
        "colab": {
          "base_uri": "https://localhost:8080/",
          "height": 365
        },
        "id": "PUj5CKpUQZch",
        "outputId": "cc708441-e30f-4f8f-e534-b52a72613123"
      },
      "outputs": [
        {
          "output_type": "display_data",
          "data": {
            "text/plain": [
              "<IPython.core.display.HTML object>"
            ],
            "text/html": [
              "\n",
              "    \n",
              "    <style>\n",
              "        .fancy-table {\n",
              "            width: 80%;\n",
              "            margin: 25px auto;\n",
              "            border-collapse: collapse;\n",
              "            box-shadow: 0 5px 15px rgba(0,0,0,0.1);\n",
              "            font-family: 'Segoe UI', Tahoma, Geneva, Verdana, sans-serif;\n",
              "            border-radius: 10px;\n",
              "            overflow: hidden;\n",
              "        }\n",
              "        .fancy-table th {\n",
              "            background-color: #2c3e50;\n",
              "            color: white;\n",
              "            padding: 15px;\n",
              "            text-align: center;\n",
              "            font-size: 15px;\n",
              "            text-transform: uppercase;\n",
              "            letter-spacing: 1px;\n",
              "        }\n",
              "        .fancy-table td {\n",
              "            padding: 12px;\n",
              "            text-align: center;\n",
              "            border-bottom: 1px solid #e0e0e0;\n",
              "            font-size: 14px;\n",
              "        }\n",
              "        .fancy-table tr:nth-child(even) {\n",
              "            background-color: #f8f9fa;\n",
              "        }\n",
              "        .fancy-table tr:hover {\n",
              "            background-color: #f1f1f1;\n",
              "            transition: all 0.3s;\n",
              "        }\n",
              "        .fancy-table caption {\n",
              "            caption-side: top;\n",
              "            font-size: 18px;\n",
              "            font-weight: bold;\n",
              "            margin-bottom: 15px;\n",
              "            color: #2c3e50;\n",
              "        }\n",
              "        .best-accuracy {\n",
              "            background-color: #4CAF50 !important;\n",
              "            color: white;\n",
              "            font-weight: bold;\n",
              "        }\n",
              "        .best-time {\n",
              "            background-color: #2196F3 !important;\n",
              "            color: white;\n",
              "            font-weight: bold;\n",
              "        }\n",
              "    </style>\n",
              "    \n",
              "    <table class=\"fancy-table\">\n",
              "        <caption>Resultados de Entrenamiento - Fashion MNIST</caption>\n",
              "        <thead>\n",
              "            <tr>\n",
              "                <th>Batch Size</th>\n",
              "                <th>Test Accuracy</th>\n",
              "                <th>Tiempo/Época (s)</th>\n",
              "            </tr>\n",
              "        </thead>\n",
              "        <tbody>\n",
              "    \n",
              "        <tr>\n",
              "            <td>32</td>\n",
              "            <td class=\"\">0.8794</td>\n",
              "            <td class=\"\">5.13</td>\n",
              "        </tr>\n",
              "        \n",
              "        <tr>\n",
              "            <td>64</td>\n",
              "            <td class=\"best-accuracy\">0.8827</td>\n",
              "            <td class=\"\">2.65</td>\n",
              "        </tr>\n",
              "        \n",
              "        <tr>\n",
              "            <td>128</td>\n",
              "            <td class=\"\">0.8756</td>\n",
              "            <td class=\"\">1.74</td>\n",
              "        </tr>\n",
              "        \n",
              "        <tr>\n",
              "            <td>256</td>\n",
              "            <td class=\"\">0.8755</td>\n",
              "            <td class=\"\">0.99</td>\n",
              "        </tr>\n",
              "        \n",
              "        <tr>\n",
              "            <td>512</td>\n",
              "            <td class=\"\">0.8685</td>\n",
              "            <td class=\"best-time\">0.68</td>\n",
              "        </tr>\n",
              "        \n",
              "        </tbody>\n",
              "    </table>\n",
              "    "
            ]
          },
          "metadata": {}
        }
      ],
      "source": [
        "# =============================================\n",
        "# TABLA PROFESIONAL MEJORADA\n",
        "# =============================================\n",
        "\n",
        "from IPython.display import display, HTML\n",
        "\n",
        "def create_fancy_table(results):\n",
        "    # Estilos CSS para la tabla\n",
        "    styles = \"\"\"\n",
        "    <style>\n",
        "        .fancy-table {\n",
        "            width: 80%;\n",
        "            margin: 25px auto;\n",
        "            border-collapse: collapse;\n",
        "            box-shadow: 0 5px 15px rgba(0,0,0,0.1);\n",
        "            font-family: 'Segoe UI', Tahoma, Geneva, Verdana, sans-serif;\n",
        "            border-radius: 10px;\n",
        "            overflow: hidden;\n",
        "        }\n",
        "        .fancy-table th {\n",
        "            background-color: #2c3e50;\n",
        "            color: white;\n",
        "            padding: 15px;\n",
        "            text-align: center;\n",
        "            font-size: 15px;\n",
        "            text-transform: uppercase;\n",
        "            letter-spacing: 1px;\n",
        "        }\n",
        "        .fancy-table td {\n",
        "            padding: 12px;\n",
        "            text-align: center;\n",
        "            border-bottom: 1px solid #e0e0e0;\n",
        "            font-size: 14px;\n",
        "        }\n",
        "        .fancy-table tr:nth-child(even) {\n",
        "            background-color: #f8f9fa;\n",
        "        }\n",
        "        .fancy-table tr:hover {\n",
        "            background-color: #f1f1f1;\n",
        "            transition: all 0.3s;\n",
        "        }\n",
        "        .fancy-table caption {\n",
        "            caption-side: top;\n",
        "            font-size: 18px;\n",
        "            font-weight: bold;\n",
        "            margin-bottom: 15px;\n",
        "            color: #2c3e50;\n",
        "        }\n",
        "        .best-accuracy {\n",
        "            background-color: #4CAF50 !important;\n",
        "            color: white;\n",
        "            font-weight: bold;\n",
        "        }\n",
        "        .best-time {\n",
        "            background-color: #2196F3 !important;\n",
        "            color: white;\n",
        "            font-weight: bold;\n",
        "        }\n",
        "    </style>\n",
        "    \"\"\"\n",
        "\n",
        "    # Crear HTML de la tabla\n",
        "    table_html = f\"\"\"\n",
        "    {styles}\n",
        "    <table class=\"fancy-table\">\n",
        "        <caption>Resultados de Entrenamiento - Fashion MNIST</caption>\n",
        "        <thead>\n",
        "            <tr>\n",
        "                <th>Batch Size</th>\n",
        "                <th>Test Accuracy</th>\n",
        "                <th>Tiempo/Época (s)</th>\n",
        "            </tr>\n",
        "        </thead>\n",
        "        <tbody>\n",
        "    \"\"\"\n",
        "\n",
        "    # Encontrar los mejores valores\n",
        "    max_acc = max(results['Test Accuracy'])\n",
        "    min_time = min(results['Tiempo por época (s)'])\n",
        "\n",
        "    # Añadir filas de datos\n",
        "    for _, row in results.iterrows():\n",
        "        acc_class = \"best-accuracy\" if row['Test Accuracy'] == max_acc else \"\"\n",
        "        time_class = \"best-time\" if row['Tiempo por época (s)'] == min_time else \"\"\n",
        "\n",
        "        table_html += f\"\"\"\n",
        "        <tr>\n",
        "            <td>{int(row['Batch Size'])}</td>\n",
        "            <td class=\"{acc_class}\">{row['Test Accuracy']:.4f}</td>\n",
        "            <td class=\"{time_class}\">{row['Tiempo por época (s)']:.2f}</td>\n",
        "        </tr>\n",
        "        \"\"\"\n",
        "\n",
        "    table_html += \"\"\"\n",
        "        </tbody>\n",
        "    </table>\n",
        "    \"\"\"\n",
        "\n",
        "    display(HTML(table_html))\n",
        "\n",
        "\n",
        "# Crear y mostrar la tabla profesional\n",
        "create_fancy_table(results)\n",
        "\n"
      ]
    },
    {
      "cell_type": "markdown",
      "source": [
        "## Conclusiones"
      ],
      "metadata": {
        "id": "veQwnBeTV3qa"
      }
    },
    {
      "cell_type": "code",
      "source": [
        "# =============================================\n",
        "# CONCLUSIONES CLARAS Y CONCISAS\n",
        "# =============================================\n",
        "\n",
        "# Encontrar los valores óptimos\n",
        "max_acc = results['Test Accuracy'].max()\n",
        "best_acc_batch = results.loc[results['Test Accuracy'] == max_acc, 'Batch Size'].values[0]\n",
        "\n",
        "min_time = results['Tiempo por época (s)'].min()\n",
        "best_time_batch = results.loc[results['Tiempo por época (s)'] == min_time, 'Batch Size'].values[0]\n",
        "\n",
        "# Calcular diferencias porcentuales\n",
        "acc_range = results['Test Accuracy'].max() - results['Test Accuracy'].min()\n",
        "time_range = results['Tiempo por época (s)'].max() - results['Tiempo por época (s)'].min()\n",
        "\n",
        "print(\"\\n\" + \"=\"*60)\n",
        "print(\" \"*20 + \"CONCLUSIONES FINALES\")\n",
        "print(\"=\"*60)\n",
        "\n",
        "print(\"\\n🔍 RESULTADOS CLAVE:\")\n",
        "print(f\"- Mejor accuracy: {max_acc:.4f} (Batch Size: {best_acc_batch})\")\n",
        "print(f\"- Mejor tiempo/época: {min_time:.2f}s (Batch Size: {best_time_batch})\")\n",
        "\n",
        "print(\"\\n📊 TENDENCIAS OBSERVADAS:\")\n",
        "print(f\"- Batch sizes más grandes (512) son más rápidos que el más pequeño\")\n",
        "print(f\"- La diferencia entre el mejor y peor accuracy fue de {acc_range*100:.2f}%\")\n",
        "print(f\"- El tiempo varía en {time_range:.2f}s entre configuraciones\")\n",
        "\n",
        "print(\"\\n💡 RECOMENDACIÓN:\")\n",
        "if best_acc_batch == best_time_batch:\n",
        "    print(f\"El Batch Size {best_acc_batch} ofrece el mejor equilibrio entre precisión y velocidad\")\n",
        "else:\n",
        "    print(f\"Para mejor precisión: usar Batch Size {best_acc_batch}\")\n",
        "    print(f\"Para mayor velocidad: usar Batch Size {best_time_batch}\")\n",
        "    print(f\"Recomendación balanceada: Batch Size {min(best_acc_batch, best_time_batch)}\")\n",
        "\n",
        "print(\"\\n\" + \"=\"*60)"
      ],
      "metadata": {
        "colab": {
          "base_uri": "https://localhost:8080/"
        },
        "id": "7_FTtinmV53p",
        "outputId": "0c0312a9-50a8-4501-a764-31751ec5be1a"
      },
      "execution_count": 8,
      "outputs": [
        {
          "output_type": "stream",
          "name": "stdout",
          "text": [
            "\n",
            "============================================================\n",
            "                    CONCLUSIONES FINALES\n",
            "============================================================\n",
            "\n",
            "🔍 RESULTADOS CLAVE:\n",
            "- Mejor accuracy: 0.8827 (Batch Size: 64)\n",
            "- Mejor tiempo/época: 0.68s (Batch Size: 512)\n",
            "\n",
            "📊 TENDENCIAS OBSERVADAS:\n",
            "- Batch sizes más grandes (512) son más rápidos que el más pequeño\n",
            "- La diferencia entre el mejor y peor accuracy fue de 1.42%\n",
            "- El tiempo varía en 4.45s entre configuraciones\n",
            "\n",
            "💡 RECOMENDACIÓN:\n",
            "Para mejor precisión: usar Batch Size 64\n",
            "Para mayor velocidad: usar Batch Size 512\n",
            "Recomendación balanceada: Batch Size 64\n",
            "\n",
            "============================================================\n"
          ]
        }
      ]
    }
  ]
}